{
 "cells": [
  {
   "cell_type": "markdown",
   "metadata": {
    "colab_type": "text",
    "id": "J3C7q2FR-Y-2"
   },
   "source": [
    "## Homework 01 - Instructions\n",
    "\n",
    "![](https://github.com/rpi-techfundamentals/hm-01-starter/blob/master/notsaved.png?raw=1)\n",
    "\n",
    "**WARNING!!!  If you see this icon on the top of your COLAB sesssion, your work is not saved automatically.**\n",
    "\n",
    "\n",
    "**When you are working on homeworks, make sure that you save often. You may find it easier to save intermident copies in Google drive. If you save your working file in Google drive all changes will be saved as you work. MAKE SURE that your final version is saved to GitHub.** \n",
    "\n",
    "Before you turn this problem in, make sure everything runs as expected. First, restart the kernel (in the menubar, select Kernel → Restart) and then run all cells (in the menubar, select Cell → Run All).  You can speak with others regarding the assignment but all work must be your own. \n",
    "\n",
    "\n",
    "### This is a 30 point assignment graded from answers to questions and automated tests that should be run at the bottom. Be sure to clearly label all of your answers and commit final tests at the end.  \n"
   ]
  },
  {
   "cell_type": "markdown",
   "metadata": {
    "colab_type": "text",
    "id": "vwas4rbT-Y_C"
   },
   "source": [
    "## BEFORE YOU BEGIN\n",
    "\n",
    "Please work through each of these notebooks, which will give you some understanding of the Google Colab environment.\n",
    "\n",
    "### Working with Notebooks in Colaboratory\n",
    "- [Overview of Colaboratory](https://colab.research.google.com/notebooks/basic_features_overview.ipynb)\n",
    "- [Guide to Markdown](https://colab.research.google.com/notebooks/markdown_guide.ipynb)\n",
    "- [Importing libraries and installing dependencies](https://colab.research.google.com/notebooks/snippets/importing_libraries.ipynb)\n",
    "- [Saving and loading notebooks in GitHub](https://colab.research.google.com/github/googlecolab/colabtools/blob/master/notebooks/colab-github-demo.ipynb)\n",
    "\n",
    "\n",
    "### Working with Data\n",
    "Some of this is a bit more advanced, but at this point just make sure you know where the code is for how to upload and download a file. \n",
    "\n",
    "- [Loading data: Drive, Sheets, and Google Cloud Storage](https://colab.research.google.com/notebooks/io.ipynb) \n"
   ]
  },
  {
   "cell_type": "markdown",
   "metadata": {
    "colab_type": "text",
    "id": "UAeTVSwM-Y_E"
   },
   "source": [
    "## Run these Cells\n",
    "This will setup the automated testing environment on Colab"
   ]
  },
  {
   "cell_type": "code",
   "execution_count": null,
   "metadata": {
    "colab": {},
    "colab_type": "code",
    "id": "hxSZBZpoFspJ"
   },
   "outputs": [],
   "source": [
    "files = \"https://github.com/rpi-techfundamentals/hm-01-starter/raw/master/files.zip\" \n",
    "!pip install git+https://github.com/data-8/Gofer-Grader && wget $files && unzip -o files.zip"
   ]
  },
  {
   "cell_type": "code",
   "execution_count": null,
   "metadata": {
    "colab": {},
    "colab_type": "code",
    "id": "tQ2gpBeo-Y_L"
   },
   "outputs": [],
   "source": [
    "#Run this. It initiates autograding. \n",
    "from client.api.notebook import Notebook\n",
    "ok = Notebook('lab01.ok')\n",
    "_ = ok.auth(inline=True)"
   ]
  },
  {
   "cell_type": "markdown",
   "metadata": {
    "colab_type": "text",
    "id": "02Narz26-Y_O"
   },
   "source": [
    "**Question 1.** \n",
    "\n",
    "In the next cell, assign the value for `x` too 150.  Set the value for `y` to 13 times `x` , and set the value for `z` to `y` divided by `x` squared.\n",
    "\n"
   ]
  },
  {
   "cell_type": "code",
   "execution_count": null,
   "metadata": {
    "colab": {},
    "colab_type": "code",
    "id": "g3bpWD_x-Y_P"
   },
   "outputs": [],
   "source": [
    "#enter your answer here\n",
    "\n"
   ]
  },
  {
   "cell_type": "code",
   "execution_count": null,
   "metadata": {
    "colab": {},
    "colab_type": "code",
    "id": "CYm6EYcb-Y_Q"
   },
   "outputs": [],
   "source": [
    "#Run this cell to see if you passed the test.  If it fails, you probably didn't run the above required code. \n",
    "_ = ok.grade('q01')"
   ]
  },
  {
   "cell_type": "markdown",
   "metadata": {
    "colab_type": "text",
    "id": "_nqV4th9-Y_S"
   },
   "source": [
    "**Question 2.** \n",
    "\n",
    "Packages are really important compontent of most programming languages. \n",
    "\n",
    "In the overview, you learnned about tab completion as a way to explore python objects.  This can be really useful.  Let's use it to find the formula for the the factorial of 15. "
   ]
  },
  {
   "cell_type": "code",
   "execution_count": null,
   "metadata": {
    "colab": {},
    "colab_type": "code",
    "id": "QZJbI5Ar-Y_T"
   },
   "outputs": [],
   "source": [
    "#we have to first import the math function to use tab completion. \n",
    "import math  "
   ]
  },
  {
   "cell_type": "code",
   "execution_count": null,
   "metadata": {
    "colab": {},
    "colab_type": "code",
    "id": "kLTxbUw7-Y_W"
   },
   "outputs": [],
   "source": [
    "m = math.\n",
    "m"
   ]
  },
  {
   "cell_type": "code",
   "execution_count": null,
   "metadata": {
    "colab": {},
    "colab_type": "code",
    "id": "4JHxL421-Y_Z"
   },
   "outputs": [],
   "source": [
    "#Run this cell to see if you passed the test.  If it fails, you probably didn't run the above required code. \n",
    "_ = ok.grade('q02')"
   ]
  },
  {
   "cell_type": "markdown",
   "metadata": {
    "colab_type": "text",
    "id": "J_RLycx0-Y_c"
   },
   "source": [
    "**Question 3.** \n",
    "\n",
    "Markdown is a useful aspect of Jupyter Notebooks. \n",
    "- [Guide to Markdown](https://colab.research.google.com/notebooks/markdown_guide.ipynb)\n",
    "\n",
    "Use what you learned about markdown to adjust the text below to create the following:\n",
    "![](https://github.com/rpi-techfundamentals/hm-01-starter/blob/master/md_result.png?raw=1)\n"
   ]
  },
  {
   "cell_type": "markdown",
   "metadata": {
    "colab_type": "text",
    "id": "-z8557v9-Y_e"
   },
   "source": [
    "Header\n",
    "For the above header, make it an h1 tag using markdown. \n",
    "\n",
    "Sub-Header\n",
    "For the above sub-header, make it an h5 tag using markdown. \n",
    "\n",
    "Bold\n",
    "\n",
    "Italics\n",
    "\n",
    "https://tw.rpi.edu//images/rpi-logo-red.jpg  \n",
    "(Embed this image)\n"
   ]
  },
  {
   "cell_type": "code",
   "execution_count": null,
   "metadata": {
    "colab": {},
    "colab_type": "code",
    "id": "yV7xoBD4-Y_f"
   },
   "outputs": [],
   "source": [
    "#Ender your updated markdown here Must maatch exactly\n",
    "markdown=\"\"\"\n",
    "Header\n",
    "For the above header, make it an h1 tag using markdown. \n",
    "\n",
    "Sub-Header\n",
    "For the above sub-header, make it an h5 tag using markdown. \n",
    "\n",
    "Bold\n",
    "\n",
    "Italics\n",
    "\n",
    "https://tw.rpi.edu//images/rpi-logo-red.jpg  \n",
    "(Embed this image)\n",
    "\"\"\""
   ]
  },
  {
   "cell_type": "code",
   "execution_count": null,
   "metadata": {
    "colab": {},
    "colab_type": "code",
    "id": "BSzSicnq-Y_p"
   },
   "outputs": [],
   "source": [
    "#Run this cell to see if you passed the test.  If it fails, you probably didn't run the above required code. \n",
    "#This creates a hash. Read more about it here: https://www.geeksforgeeks.org/md5-hash-python/\n",
    "import hashlib \n",
    "result = hashlib.md5(markdown.encode()).hexdigest()\n",
    "_ = ok.grade('q03')"
   ]
  },
  {
   "cell_type": "markdown",
   "metadata": {
    "colab_type": "text",
    "id": "Tz9xEGJD-Y_s"
   },
   "source": [
    "**Question 4.** \n",
    "\n",
    "### Installing Packages \n",
    "Python packages are an important part of data science and critical to leveraging the broader Python ecosystem.\n",
    "\n",
    "You typically have two options when installing a package. You can install it with [Conda](http://anaconda.org) or [pip](https://pypi.org).\n",
    "\n",
    "The `!` in a jupyter notebook means that the line is being processed on the `commmand line` and not by the Python interpreter. \n",
    "\n",
    "```\n",
    "!conda install -c conda-forge <packagename>\n",
    "\n",
    "!pip install <packagename>\n",
    "\n",
    "```\n",
    "\n",
    "If you try to import something and get an error, it is usally a tell that you need to install a package. \n",
    "\n"
   ]
  },
  {
   "cell_type": "markdown",
   "metadata": {
    "colab_type": "text",
    "id": "zEgTCmYC-Y_t"
   },
   "source": [
    "### Install the `fasptparquet` Package to be able to work with Parquet Files\n",
    "- CSV (comma delimited  files are great for humans to read and understand.  \n",
    "- For \"big data\" though, it isn't a great long term storage option (inefficient/slow).\n",
    "- Parquet is a type columnar storage format.  It makes dealing with lots of columns fast. \n",
    "- [fastparquet](https://fastparquet.readthedocs.io) is a Python package for dealing with Parquet files. \n",
    "- Apache Spark also natively reads Parquet Files. \n",
    "- Look [here](https://anaconda.org/conda-forge/fastparquet) for instructions on installing the fastparquet package. "
   ]
  },
  {
   "cell_type": "code",
   "execution_count": null,
   "metadata": {
    "colab": {},
    "colab_type": "code",
    "id": "4JK8d9oK-Y_t"
   },
   "outputs": [],
   "source": [
    "#Install package for fastparquet here."
   ]
  },
  {
   "cell_type": "code",
   "execution_count": null,
   "metadata": {
    "colab": {},
    "colab_type": "code",
    "id": "uy3PPdiv-Y_v"
   },
   "outputs": [],
   "source": [
    "#This gets a parque file we can use to test. \n",
    "!wget https://github.com/rpi-techfundamentals/hm-01-starter/raw/master/Demographic_Statistics_By_Zip_Code.parq"
   ]
  },
  {
   "cell_type": "code",
   "execution_count": null,
   "metadata": {
    "colab": {},
    "colab_type": "code",
    "id": "n22bqKep-Y_x"
   },
   "outputs": [],
   "source": [
    "#Run this to try to load the name.parq. It won't work unless you downloaded the file and installed the package. \n",
    "from fastparquet import ParquetFile  #This imports the package. \n",
    "pf = ParquetFile('Demographic_Statistics_By_Zip_Code.parq')\n",
    "dfparq = pf.to_pandas()   #This changes the Parquet File object to a pandas dataframe. We will learn more about that later. \n",
    "dfparq  #Just listing the value prints it out. "
   ]
  },
  {
   "cell_type": "code",
   "execution_count": null,
   "metadata": {
    "colab": {},
    "colab_type": "code",
    "id": "kwFXl5b0-Y_z"
   },
   "outputs": [],
   "source": [
    "#Run this cell to see if you passed the test.  \n",
    "_ = ok.grade('q04')"
   ]
  },
  {
   "cell_type": "markdown",
   "metadata": {
    "colab_type": "text",
    "id": "lvl3EU6C-Y_1"
   },
   "source": [
    "**Question 5.** \n",
    "\n",
    "### Importing CSV into a Pandas Dataframe\n",
    "- Comma delimited files are a common way of transmitting data. \n",
    "- Data for different columns is separated by a comma.\n",
    "- It is possible to open a csv in different ways, but Pandas is the easiest.  \n",
    "- Data structured like CSV's are extremely common and known as tabular data.\n",
    "- Pandas will give access to many useful methods for working with data.  \n",
    "- `pandas` is often imported as the abbreviated `pd`.\n",
    "\n",
    "### Download CSV from Web to Colab using `wget`\n",
    "Click this link [https://data.cityofnewyork.us/api/views/kku6-nxdu/rows.csv?accessType=DOWNLOAD](https://data.cityofnewyork.us/api/views/kku6-nxdu/rows.csv?accessType=DOWNLOAD)\n",
    "to download the file to your local computer. \n",
    "\n",
    "To get the file onto the colab computational environment, the easiest way is to use wget.  If you have something on google drive, saving \n",
    "\n",
    "`!wget -O <filename you want to save to> <link to file>`\n",
    "\n",
    "For example:\n",
    "`!wget -O foo.csv https://data.us/122/?accessType=DOWNLOAD`\n",
    "\n",
    "You can read more about wget [here](https://www.electrictoolbox.com/wget-save-different-filename/). \n",
    "\n",
    "**Note that this is not a strategy for data that needs to remain secured, as anyone with access to your notebook would also gain access to the file.** \n",
    "\n",
    "\n"
   ]
  },
  {
   "cell_type": "code",
   "execution_count": null,
   "metadata": {
    "colab": {},
    "colab_type": "code",
    "id": "C8XFQ0zx-Y_2"
   },
   "outputs": [],
   "source": [
    "#Insert your wget command here\n",
    "!wget -O Demographic_Statistics_By_Zip_Code.csv https://data.cityofnewyork.us/api/views/kku6-nxdu/rows.csv?accessType=DOWNLOAD\n"
   ]
  },
  {
   "cell_type": "code",
   "execution_count": null,
   "metadata": {
    "colab": {},
    "colab_type": "code",
    "id": "emMKYvTV-ZAM"
   },
   "outputs": [],
   "source": [
    "# This will load the local name.csv file into a Pandas dataframe.  We will work with these a lot in the future.\n",
    "import pandas as pd # This line imports the pandas package. \n",
    "dfcsv = pd.read_csv('Demographic_Statistics_By_Zip_Code.csv') \n",
    "dfcsv"
   ]
  },
  {
   "cell_type": "code",
   "execution_count": null,
   "metadata": {
    "colab": {},
    "colab_type": "code",
    "id": "51TmIvgy-ZAR"
   },
   "outputs": [],
   "source": [
    "#Run this cell to see if you passed the test.  \n",
    "_ = ok.grade('q05')"
   ]
  },
  {
   "cell_type": "markdown",
   "metadata": {},
   "source": [
    "### Git and Github\n",
    "Do some investigation on your own and summarize 3 reasons why Git and Github are important tools for data scientists.  "
   ]
  },
  {
   "cell_type": "code",
   "execution_count": null,
   "metadata": {},
   "outputs": [],
   "source": [
    "#Answer here\n",
    "man1= \"\"\"\n",
    "\n",
    "#Answer here\n",
    "\n",
    "\n",
    "\"\"\""
   ]
  },
  {
   "cell_type": "markdown",
   "metadata": {
    "colab_type": "text",
    "id": "3e_jX1a6ewHO"
   },
   "source": [
    "## Enter your information\n",
    "This is required to make sure that you get credit for the assignment."
   ]
  },
  {
   "cell_type": "code",
   "execution_count": null,
   "metadata": {
    "colab": {},
    "colab_type": "code",
    "id": "aIDFwnuH-Y-_"
   },
   "outputs": [],
   "source": [
    "course=\"mgmt6560\"   #course number\n",
    "section=\"\"          #section \n",
    "first_name=\"\"   #For example, \"jason\"\n",
    "last_name=\"\"    #For example, \"kuruzovich\"\n",
    "student_id=\"\"       #for example \"kuruzj\"\n",
    "student_email=\"\"    #for example \"kuruzj@rpi.edu\"\n",
    "collaborators = \"\"  #You can speak with others regarding the assignment, but all typed work must be your own."
   ]
  },
  {
   "cell_type": "code",
   "execution_count": null,
   "metadata": {},
   "outputs": [],
   "source": [
    "#Run this cell to see if you passed the test.  \n",
    "_ = ok.grade('qname')"
   ]
  },
  {
   "cell_type": "markdown",
   "metadata": {
    "colab_type": "text",
    "id": "023KaNqW-ZAT"
   },
   "source": [
    "## SUBMIT TO GITHUB \n",
    "Your final file must be submitted to GitHub. "
   ]
  },
  {
   "cell_type": "code",
   "execution_count": null,
   "metadata": {
    "colab": {},
    "colab_type": "code",
    "id": "wdY0Lse9-ZAW"
   },
   "outputs": [],
   "source": [
    "#Please run this at end to show that all tests were passed. \n",
    "import os\n",
    "_ = [ok.grade(q[:-3]) for q in os.listdir(\"tests\") if q.startswith('q')]"
   ]
  },
  {
   "cell_type": "markdown",
   "metadata": {
    "colab_type": "text",
    "id": "BBXw8RYT-ZAZ"
   },
   "source": [
    "## Homework Rubric\n",
    "The following Rubric will be used to grade homwork. \n",
    "4 pts. x 6 questions. \n",
    "6 points for commit to github and 0 errors.\n",
    "30 points total. \n",
    "\n",
    "### MAKE SURE YOU CHECK THE ONLINE REPOSITORY THAT YOUR WORK IS SUCCESSFULLY SAVED TO YOUR PRIVATE RESPOSITORY ON  [GITHUB](https://github.com). \n",
    "\n",
    "```\n",
    "The repository will be in the format:\n",
    "https://github.com/rpi-intro-ml-app-<semester>-<year>/assignment-1-<your github id> \n",
    "```\n",
    "\n",
    "\n",
    "### MAKE SURE THAT THIS ENTIRE NOTEBOOK RUNS WITHOUT ERRORS. TO TEST THIS DO RUNTIME --> RESTART AND RUN ALL\n",
    "\n",
    "It should complete till the end. \n"
   ]
  },
  {
   "cell_type": "markdown",
   "metadata": {
    "colab_type": "text",
    "id": "UDIoIgh6-ZAd"
   },
   "source": [
    "\n",
    "This work is licensed under the [Creative Commons Attribution 4.0 International](https://creativecommons.org/licenses/by/4.0/) license agreement."
   ]
  }
 ],
 "metadata": {
  "anaconda-cloud": {
   "attach-environment": true,
   "environment": "py3k",
   "summary": "A test Jupyter notebook to verify local Python Environment.",
   "url": "https://anaconda.org/analyticsdojo/local-intro"
  },
  "celltoolbar": "Slideshow",
  "colab": {
   "collapsed_sections": [],
   "name": "hm01.ipynb",
   "provenance": [],
   "version": "0.3.2"
  },
  "kernelspec": {
   "display_name": "Python 3",
   "language": "python",
   "name": "python3"
  },
  "language_info": {
   "codemirror_mode": {
    "name": "ipython",
    "version": 3
   },
   "file_extension": ".py",
   "mimetype": "text/x-python",
   "name": "python",
   "nbconvert_exporter": "python",
   "pygments_lexer": "ipython3",
   "version": "3.6.9"
  }
 },
 "nbformat": 4,
 "nbformat_minor": 1
}
