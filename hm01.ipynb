{
 "cells": [
  {
   "cell_type": "markdown",
   "metadata": {
    "slideshow": {
     "slide_type": "slide"
    }
   },
   "source": [
    "## Homework 01 - Instructions\n",
    "\n",
    "![](notsaved.png)\n",
    "\n",
    "**WARNING!!!  If you see this icon on the top of your COLAB sesssion, your work is not saved automatically.**\n",
    "\n",
    "\n",
    "**When you are working on homeworks, make sure that you save often. You may find it easier to save intermident copies in Google drive. If you save your working file in Google drive all changes will be saved as you work. MAKE SURE that your final version is saved to GitHub.** \n",
    "\n",
    "Before you turn this problem in, make sure everything runs as expected. First, restart the kernel (in the menubar, select Kernel → Restart) and then run all cells (in the menubar, select Cell → Run All).  You can speak with others regarding the assignment but all work must be your own. \n",
    "\n",
    "\n",
    "### This is a 30 point assignment graded from answers to questions and automated tests that should be run at the bottom. Be sure to clearly label all of your answers and commit final tests at the end.  \n"
   ]
  },
  {
   "cell_type": "code",
   "execution_count": null,
   "metadata": {},
   "outputs": [],
   "source": [
    "name = \"<enter yours>\"\n",
    "github_id=\"<enter yours>\"\n",
    "collaborators = \"<enter yours>\"  #You can speak with others regarding the assignment, but all typed work must be your own."
   ]
  },
  {
   "cell_type": "markdown",
   "metadata": {},
   "source": [
    "## BEFORE YOU BEGIN\n",
    "\n",
    "Please work through each of these notebooks, which will give you some understanding of the Google Colab environment.\n",
    "\n",
    "### Working with Notebooks in Colaboratory\n",
    "- [Overview of Colaboratory](https://colab.research.google.com/notebooks/basic_features_overview.ipynb)\n",
    "- [Guide to Markdown](https://colab.research.google.com/notebooks/markdown_guide.ipynb)\n",
    "- [Importing libraries and installing dependencies](https://colab.research.google.com/notebooks/snippets/importing_libraries.ipynb)\n",
    "- [Saving and loading notebooks in GitHub](https://colab.research.google.com/github/googlecolab/colabtools/blob/master/notebooks/colab-github-demo.ipynb)\n",
    "\n",
    "\n",
    "### Working with Data\n",
    "Some of this is a bit more advanced, but at this point just make sure you know where the code is for how to upload and download a file. \n",
    "\n",
    "- [Loading data: Drive, Sheets, and Google Cloud Storage](https://colab.research.google.com/notebooks/io.ipynb) \n"
   ]
  },
  {
   "cell_type": "markdown",
   "metadata": {},
   "source": [
    "## Run these Cells\n",
    "This will setup the automated testing environment on Colab"
   ]
  },
  {
   "cell_type": "markdown",
   "metadata": {},
   "source": [
    "files = \"https://github.com/rpi-techfundamentals/hm-01-starter/raw/master/files.zip\"\n",
    "!pip install git+https://github.com/data-8/Gofer-Grader  && wget  $files && unzip -o files.zip"
   ]
  },
  {
   "cell_type": "code",
   "execution_count": null,
   "metadata": {},
   "outputs": [],
   "source": [
    "#Run this. It initiates autograding. \n",
    "from client.api.notebook import Notebook\n",
    "ok = Notebook('lab01.ok')\n",
    "_ = ok.auth(inline=True)"
   ]
  },
  {
   "cell_type": "markdown",
   "metadata": {},
   "source": [
    "**Question 1.** \n",
    "\n",
    "In the next cell, assign the value for `x` too 150.  Set the value for `y` to 13 times `x` , and set the value for `z` to `y` divided by `x` squared.\n",
    "\n"
   ]
  },
  {
   "cell_type": "code",
   "execution_count": null,
   "metadata": {},
   "outputs": [],
   "source": [
    "#enter your answer here\n",
    "\n"
   ]
  },
  {
   "cell_type": "code",
   "execution_count": null,
   "metadata": {},
   "outputs": [],
   "source": [
    "#Run this cell to see if you passed the test.  If it fails, you probably didn't run the above required code. \n",
    "_ = ok.grade('q01')"
   ]
  },
  {
   "cell_type": "markdown",
   "metadata": {},
   "source": [
    "**Question 2.** \n",
    "\n",
    "Packages are really important compontent of most programming languages. \n",
    "\n",
    "In the overview, you learnned about tab completion as a way to explore python objects.  This can be really useful.  Let's use it to find the formula for the the factorial of 99. "
   ]
  },
  {
   "cell_type": "code",
   "execution_count": null,
   "metadata": {},
   "outputs": [],
   "source": [
    "#we have to first import the math function to use tab completion. \n",
    "import math  "
   ]
  },
  {
   "cell_type": "code",
   "execution_count": null,
   "metadata": {},
   "outputs": [],
   "source": [
    "m = math.\n",
    "m"
   ]
  },
  {
   "cell_type": "code",
   "execution_count": null,
   "metadata": {},
   "outputs": [],
   "source": [
    "#Run this cell to see if you passed the test.  If it fails, you probably didn't run the above required code. \n",
    "_ = ok.grade('q02')"
   ]
  },
  {
   "cell_type": "markdown",
   "metadata": {},
   "source": [
    "**Question 3.** \n",
    "\n",
    "Markdown is a useful aspect of Jupyter Notebooks. \n",
    "- [Guide to Markdown](https://colab.research.google.com/notebooks/markdown_guide.ipynb)\n",
    "\n",
    "Use what you learned about markdown to adjust the text below to create the following:\n",
    "![](md_result.png)\n"
   ]
  },
  {
   "cell_type": "markdown",
   "metadata": {},
   "source": [
    "Header\n",
    "For the above header, make it an h1 tag using markdown. \n",
    "\n",
    "Sub-Header\n",
    "For the above sub-header, make it an h5 tag using markdown. \n",
    "\n",
    "Bold\n",
    "\n",
    "Italics\n",
    "\n",
    "https://tw.rpi.edu//images/rpi-logo-red.jpg  \n",
    "(Embed this image)\n"
   ]
  },
  {
   "cell_type": "code",
   "execution_count": null,
   "metadata": {},
   "outputs": [],
   "source": [
    "#Ender your updated markdown here Must maatch exactly\n",
    "markdown=\"\"\"\n",
    "Header\n",
    "For the above header, make it an h1 tag using markdown. \n",
    "\n",
    "Sub-Header\n",
    "For the above sub-header, make it an h5 tag using markdown. \n",
    "\n",
    "Bold\n",
    "\n",
    "Italics\n",
    "\n",
    "https://tw.rpi.edu//images/rpi-logo-red.jpg  \n",
    "(Embed this image)\n",
    "\"\"\""
   ]
  },
  {
   "cell_type": "code",
   "execution_count": null,
   "metadata": {},
   "outputs": [],
   "source": [
    "#Run this cell to see if you passed the test.  If it fails, you probably didn't run the above required code. \n",
    "#This creates a hash. Read more about it here: https://www.geeksforgeeks.org/md5-hash-python/\n",
    "import hashlib \n",
    "result = hashlib.md5(markdown.encode()).hexdigest()\n",
    "_ = ok.grade('q03')"
   ]
  },
  {
   "cell_type": "markdown",
   "metadata": {},
   "source": [
    "**Question 4.** \n",
    "\n",
    "### Installing Packages \n",
    "Python packages are an important part of data science and critical to leveraging the broader Python ecosystem.\n",
    "\n",
    "You typically have two options when installing a package. You can install it with [Conda](http://anaconda.org) or [pip](https://pypi.org).\n",
    "\n",
    "The `!` in a jupyter notebook means that the line is being processed on the `commmand line` and not by the Python interpreter. \n",
    "\n",
    "```\n",
    "!conda install -c conda-forge <packagename>\n",
    "\n",
    "!pip install <packagename>\n",
    "\n",
    "```\n",
    "\n",
    "If you try to import something and get an error, it is usally a tell that you need to install a package. \n",
    "\n"
   ]
  },
  {
   "cell_type": "markdown",
   "metadata": {},
   "source": [
    "### Install the `fasptparquet` Package to be able to work with Parquet Files\n",
    "- CSV (comma delimited  files are great for humans to read and understand.  \n",
    "- For \"big data\" though, it isn't a great long term storage option (inefficient/slow).\n",
    "- Parquet is a type columnar storage format.  It makes dealing with lots of columns fast. \n",
    "- [fastparquet](https://fastparquet.readthedocs.io) is a Python package for dealing with Parquet files. \n",
    "- Apache Spark also natively reads Parquet Files. \n",
    "- Look [here](https://anaconda.org/conda-forge/fastparquet) for instructions on installing the fastparquet package. "
   ]
  },
  {
   "cell_type": "code",
   "execution_count": null,
   "metadata": {},
   "outputs": [],
   "source": [
    "#Install package for fastparquet here."
   ]
  },
  {
   "cell_type": "code",
   "execution_count": null,
   "metadata": {},
   "outputs": [],
   "source": [
    "#This gets a parque file we can use to test. \n",
    "!wget https://github.com/rpi-techfundamentals/hm-01-starter/raw/master/Demographic_Statistics_By_Zip_Code.parq"
   ]
  },
  {
   "cell_type": "code",
   "execution_count": null,
   "metadata": {},
   "outputs": [],
   "source": [
    "#Run this to try to load the name.parq. It won't work unless you downloaded the file and installed the package. \n",
    "from fastparquet import ParquetFile  #This imports the package. \n",
    "pf = ParquetFile('Demographic_Statistics_By_Zip_Code.parq')\n",
    "dfparq = pf.to_pandas()   #This changes the Parquet File object to a pandas dataframe. We will learn more about that later. \n",
    "dfparq  #Just listing the value prints it out. "
   ]
  },
  {
   "cell_type": "code",
   "execution_count": null,
   "metadata": {},
   "outputs": [],
   "source": [
    "#Run this cell to see if you passed the test.  \n",
    "_ = ok.grade('q04')"
   ]
  },
  {
   "cell_type": "markdown",
   "metadata": {
    "slideshow": {
     "slide_type": "subslide"
    }
   },
   "source": [
    "**Question 5.** \n",
    "\n",
    "### Importing local file CSV into a Pandas Dataframe\n",
    "- Comma delimited files are a common way of transmitting data. \n",
    "- Data for different columns is separated by a comma.\n",
    "- It is possible to open a csv in different ways, but Pandas is the easiest.  \n",
    "- Data structured like CSV's are extremely common and known as tabular data.\n",
    "- Pandas will give access to many useful methods for working with data.  \n",
    "- `pandas` is often imported as the abbreviated `pd`.\n",
    "\n",
    "### Download CSV from Web to Your Local Computer and then Upload to Colab\n",
    "Click this file name [Demographic_Statistics_By_Zip_Code.csv](https://data.cityofnewyork.us/api/views/kku6-nxdu/rows.csv?accessType=DOWNLOAD)\n",
    "to download the file to your local computer. \n",
    "\n",
    "Before you can \"load\" the csv, you have to get it on the filesystem in which colab is running. Find how to do that here:\n",
    "- [Loading data: Drive, Sheets, and Google Cloud Storage](https://colab.research.google.com/notebooks/io.ipynb) will have the needed code to get you through this part. \n"
   ]
  },
  {
   "cell_type": "code",
   "execution_count": null,
   "metadata": {},
   "outputs": [],
   "source": [
    "#Insert your loading code here.\n"
   ]
  },
  {
   "cell_type": "code",
   "execution_count": null,
   "metadata": {
    "collapsed": true
   },
   "outputs": [],
   "source": [
    "# This will load the local name.csv file into a Pandas dataframe.  We will work with these a lot in the future.\n",
    "import pandas as pd # This line imports the pandas package. \n",
    "dfcsv = pd.read_csv('Demographic_Statistics_By_Zip_Code.csv')\n",
    "dfcsv.rows  \n",
    "dfcsv"
   ]
  },
  {
   "cell_type": "code",
   "execution_count": null,
   "metadata": {},
   "outputs": [],
   "source": [
    "#Run this cell to see if you passed the test.  \n",
    "_ = ok.grade('q05')"
   ]
  },
  {
   "cell_type": "markdown",
   "metadata": {},
   "source": [
    "## SUBMIT TO GITHUB \n",
    "Your final file must be submitted to GitHub. "
   ]
  },
  {
   "cell_type": "code",
   "execution_count": null,
   "metadata": {},
   "outputs": [],
   "source": [
    "#Please run this at end to show that all tests were passed. \n",
    "import os\n",
    "_ = [ok.grade(q[:-3]) for q in os.listdir(\"tests\") if q.startswith('q')]"
   ]
  },
  {
   "cell_type": "markdown",
   "metadata": {},
   "source": [
    "## Homework Rubric\n",
    "The following Rubric will be used to grade homwork. \n",
    "5 pts. x 5 test. \n",
    "5 points for commit to github.  \n",
    "\n",
    "### MAKE SURE YOU CHECK THE ONLINE REPOSITORY THAT YOUR WORK IS SUCCESSFULLY SAVED TO YOUR PRIVATE RESPOSITORY ON  [GITHUB](https://github.com).  \n",
    "\n",
    "The repository will be in the format:\n",
    "https://github.com/rpi-intro-ml-app-<semester>-<year>/assignment-1-<your github id> \n"
   ]
  },
  {
   "cell_type": "markdown",
   "metadata": {},
   "source": [
    "\n",
    "This work is licensed under the [Creative Commons Attribution 4.0 International](https://creativecommons.org/licenses/by/4.0/) license agreement."
   ]
  }
 ],
 "metadata": {
  "anaconda-cloud": {
   "attach-environment": true,
   "environment": "py3k",
   "summary": "A test Jupyter notebook to verify local Python Environment.",
   "url": "https://anaconda.org/analyticsdojo/local-intro"
  },
  "celltoolbar": "Slideshow",
  "kernelspec": {
   "display_name": "Python [conda env:book]",
   "language": "python",
   "name": "conda-env-book-py"
  },
  "language_info": {
   "codemirror_mode": {
    "name": "ipython",
    "version": 3
   },
   "file_extension": ".py",
   "mimetype": "text/x-python",
   "name": "python",
   "nbconvert_exporter": "python",
   "pygments_lexer": "ipython3",
   "version": "3.6.9"
  }
 },
 "nbformat": 4,
 "nbformat_minor": 2
}
