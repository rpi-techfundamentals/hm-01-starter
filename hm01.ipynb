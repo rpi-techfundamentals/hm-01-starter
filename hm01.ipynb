{
 "cells": [
  {
   "cell_type": "markdown",
   "metadata": {
    "slideshow": {
     "slide_type": "slide"
    }
   },
   "source": [
    "## Homework 01 - Instructions\n",
    "\n",
    "- The goal for this lab will be to collect some data from you and get you some experience in working with Github and Jupyter Notebooks. We are going to also learn the basics of loading data into Python, updating Python objects, and writing out files.\n",
    "\n",
    "Here you will learn:\n",
    "- Importing data from a number of different file types (.csv, .json, Parquet).\n",
    "- Updating lists, dataframes, and JSON objects. \n",
    "- Outputting data as comma delimited, tab delimited, JSON, Parquet \n",
    "\n"
   ]
  },
  {
   "cell_type": "markdown",
   "metadata": {
    "slideshow": {
     "slide_type": "subslide"
    }
   },
   "source": [
    "### Importing a CSV File to a Python List\n",
    "- A list is a rather simple Python data structure. While it isn't very common to import a CSV to a list, we are going to start off there.   \n",
    "- Luckily, someone has written a `csv` package that does the majority of the heavy lifting. \n",
    "- `import csv` imports all methods in the csv package.  \n",
    "- We are going to import the values from the csv into a specific type of Python data structure, a `list`. Declaring `listcsv=[]` initializes the objects as a list and makes available the `append` method.  \n",
    "- By using the `with open` syntax shown below, we don't have to open and then close the data structure. "
   ]
  },
  {
   "cell_type": "markdown",
   "metadata": {
    "slideshow": {
     "slide_type": "subslide"
    }
   },
   "source": [
    "## CSV\n",
    "- Comma delimited files are a common way of transmitting data. \n",
    "- Data for different columns is separated by a comma.\n",
    "- It is possible to open a csv in different ways.  "
   ]
  },
  {
   "cell_type": "markdown",
   "metadata": {
    "slideshow": {
     "slide_type": "subslide"
    }
   },
   "source": [
    "### Importing a CSV File\n",
    "- The `open` command specifies the file name and what we want to do with it, here `r` stand for read.\n",
    "- The `csvreader` is an object which iterates on the file. \n",
    "- We then read each `row` using a `for` loop. "
   ]
  },
  {
   "cell_type": "code",
   "execution_count": 1,
   "metadata": {
    "collapsed": true
   },
   "outputs": [
    {
     "name": "stdout",
     "output_type": "stream",
     "text": [
      "each row of the reader imported as a: <class 'list'> ['\\ufefffirst-name', 'last-name', 'email-rpi', 'email-other', 'github-userid', 'slack-userid'] \n",
      "\n",
      "each row of the reader imported as a: <class 'list'> ['Jason', 'Kuruzovich', 'kuruzj@rpi.edu', 'jkuruzovich@gmail.com', 'jkuruzovich', 'jason_kuruzovich'] \n",
      "\n"
     ]
    }
   ],
   "source": [
    "#This is an example of how to import a CSV into a Python list. \n",
    "import csv  #This imports the CSV package.\n",
    "listcsv=[] #This initializes a list data structure.\n",
    "\n",
    "with open('in/name.csv', 'r') as data_file:   #The \"with\" incorporates an open and close of file. \n",
    "    csvreader = csv.reader(data_file, delimiter=',')\n",
    "    for row in csvreader:\n",
    "        print(\"each row of the reader imported as a:\", type(row), row,\"\\n\")\n",
    "        listcsv.append(row)\n"
   ]
  },
  {
   "cell_type": "markdown",
   "metadata": {},
   "source": [
    "### Printing out the List\n",
    "- Just enter the name of the list in order to get the contents of the list. "
   ]
  },
  {
   "cell_type": "code",
   "execution_count": null,
   "metadata": {},
   "outputs": [],
   "source": [
    "listcsv"
   ]
  },
  {
   "cell_type": "markdown",
   "metadata": {
    "slideshow": {
     "slide_type": "subslide"
    }
   },
   "source": [
    "### Updating List Values\n",
    "- `listcsv` is a 2 dimensional list, with the first number indicating the row and the second number indicating the column.\n",
    "- Objects start numbering at 0, so that in this case the header-row is 0. \n",
    "\n",
    "**Go ahead and reassign the values of the list to include your first and last name**\n"
   ]
  },
  {
   "cell_type": "code",
   "execution_count": null,
   "metadata": {
    "collapsed": true
   },
   "outputs": [],
   "source": [
    "listcsv[1][0] = \"your first\"   #row/column numbers start at 0\n",
    "listcsv[1][1] = \"your last\"    #row/column numbers start at 0\n",
    "\n"
   ]
  },
  {
   "cell_type": "markdown",
   "metadata": {},
   "source": [
    "### Let's print it out to make sure that it worked."
   ]
  },
  {
   "cell_type": "code",
   "execution_count": null,
   "metadata": {},
   "outputs": [],
   "source": [
    "listcsv"
   ]
  },
  {
   "cell_type": "markdown",
   "metadata": {},
   "source": [
    "**In the cell below replace the values for 'email-rpi', 'email-other', 'github-userid', 'slack-userid' just like you did for first and last name.**"
   ]
  },
  {
   "cell_type": "code",
   "execution_count": null,
   "metadata": {},
   "outputs": [],
   "source": [
    "#"
   ]
  },
  {
   "cell_type": "markdown",
   "metadata": {},
   "source": [
    "### Let's print it out to make sure that it worked."
   ]
  },
  {
   "cell_type": "code",
   "execution_count": null,
   "metadata": {},
   "outputs": [],
   "source": [
    "listcsv"
   ]
  },
  {
   "cell_type": "markdown",
   "metadata": {
    "slideshow": {
     "slide_type": "subslide"
    }
   },
   "source": [
    "### Outputing a CSV File from a List\n",
    "- It is very common to write to a CSV file.  Here we are doing it using a list. \n",
    "- Here, notice we are doing just the same thing as reading. However, we are doing it by opening the file with a `w`. "
   ]
  },
  {
   "cell_type": "code",
   "execution_count": null,
   "metadata": {
    "collapsed": true
   },
   "outputs": [],
   "source": [
    "#Here we are going to save as a tab delimited file\n",
    "with open(\"out/name.csv\", 'w' ) as outfile:\n",
    "    writer = csv.writer(outfile, delimiter=',')\n",
    "    writer.writerows(listcsv)"
   ]
  },
  {
   "cell_type": "markdown",
   "metadata": {
    "slideshow": {
     "slide_type": "subslide"
    }
   },
   "source": [
    "### Writing a Tab Delimited File from a List\n",
    "- Here we are able to output the file as a tab delimited file.  \n",
    "- A tab delimed file utilizes '\\t' as the delimiter.\n",
    "- Notice that this code is about the same, with just the filename and the delimiter changed "
   ]
  },
  {
   "cell_type": "code",
   "execution_count": null,
   "metadata": {
    "collapsed": true
   },
   "outputs": [],
   "source": [
    "#Here we are going to save as a tab delimited file\n",
    "with open(\"out/name.txt\", 'w') as outfile:\n",
    "    writer = csv.writer(outfile, delimiter='\\t')\n",
    "    writer.writerows(listcsv)"
   ]
  },
  {
   "cell_type": "markdown",
   "metadata": {
    "slideshow": {
     "slide_type": "subslide"
    }
   },
   "source": [
    "### Importing CSV into a Pandas Dataframe\n",
    "- Data structured like CSV's are extremely common.\n",
    "- The most common data structure you will import them into is a Pandas dataframe. \n",
    "- Pandas will give access to many useful methods for working with data.  \n",
    "- `pandas` is often imported as the abbreviated `pd`.\n",
    "- Typing the object name of a pandas dataframe (here `dfcsv`) gives a *pretty printed* version of the table."
   ]
  },
  {
   "cell_type": "code",
   "execution_count": null,
   "metadata": {
    "collapsed": true
   },
   "outputs": [],
   "source": [
    "# This will load the local name.csv file into a Pandas dataframe.  We will work with these a lot in the future.\n",
    "import pandas as pd # This line imports the pandas package. \n",
    "dfcsv = pd.read_csv('in/name.csv')\n",
    "dfcsv"
   ]
  },
  {
   "cell_type": "markdown",
   "metadata": {},
   "source": [
    "### Updating a Pandas Dataframe\n",
    "- Pandas figured out that you have columns and even knows the rows. Notice the Pandas Magic! \n",
    "- We will utilize 2 different methods of updating a Pandas dataframe. \n",
    "- The `loc` method uses an index of the `[rownum, colname]`\n",
    "- The `iloc` method uses an indes of the `[rownum, colnum]`\n",
    "\n",
    "**Again update the first 2 values. Here we have added the dfcsf to the end of the cell, printing the dataframe. **"
   ]
  },
  {
   "cell_type": "code",
   "execution_count": null,
   "metadata": {
    "collapsed": true
   },
   "outputs": [],
   "source": [
    "# Updating  \n",
    "dfcsv.loc[0, 'first-name'] = 'your first name'\n",
    "dfcsv.loc[0, 'last-name'] = 'your last name'\n",
    "dfcsv"
   ]
  },
  {
   "cell_type": "markdown",
   "metadata": {},
   "source": [
    "**Update the remainder of the columns.** "
   ]
  },
  {
   "cell_type": "code",
   "execution_count": null,
   "metadata": {},
   "outputs": [],
   "source": [
    "#Enter your code to update the remaining columns. \n",
    "\n",
    "<yourcode>\n",
    "\n",
    "## Notice how we can just as easily write the file with Pandas. \n",
    "dfcsv = dfcsv.to_csv('out/nameloc.csv')\n",
    "dfcsv #this prints the dataframe"
   ]
  },
  {
   "cell_type": "code",
   "execution_count": null,
   "metadata": {},
   "outputs": [],
   "source": [
    "#Reloading Data\n",
    "# This will load the local name.csv file into a Pandas dataframe.  We will work with these a lot in the future.\n",
    "dfcsv = pd.read_csv('in/name.csv')\n",
    "dfcsv"
   ]
  },
  {
   "cell_type": "markdown",
   "metadata": {},
   "source": [
    "**Again update the first 2 values. Here we have added the dfcsv to the end of the cell, printing the dataframe. **"
   ]
  },
  {
   "cell_type": "code",
   "execution_count": null,
   "metadata": {
    "collapsed": true
   },
   "outputs": [],
   "source": [
    "# This just utilizes the integer position. \n",
    "dfcsv.iloc[0, 0] =  'your first name'\n",
    "dfcsv.iloc[0, 1] = 'your last name'\n",
    "dfcsv"
   ]
  },
  {
   "cell_type": "markdown",
   "metadata": {},
   "source": [
    "**Update the remainder of the columns.** "
   ]
  },
  {
   "cell_type": "code",
   "execution_count": null,
   "metadata": {},
   "outputs": [],
   "source": [
    "#Enter your code to update the remaining columns using iloc. \n",
    "\n",
    "\n",
    "\n",
    "## Notice how we can just as easily write the file with Pandas. \n",
    "dfcsv = dfcsv.to_csv('out/nameiloc.csv')\n",
    "dfcsv #this prints the dataframe"
   ]
  },
  {
   "cell_type": "markdown",
   "metadata": {},
   "source": [
    "### Loading a JSON File\n",
    "- Javascript object notation is another file format you may frequently see, particularlly from APIs.  \n",
    "- This enables multipled layers of nesting, something that could take multiple files in a CSV or relational tables.\n",
    "- Our JSON is imported as a `dictionary`, which is another internal type of Python data structure.\n",
    "- *Pretty Printing* (pprint) will keep structure. \n"
   ]
  },
  {
   "cell_type": "code",
   "execution_count": null,
   "metadata": {
    "collapsed": true
   },
   "outputs": [],
   "source": [
    "import json   #This imports the JSON\n",
    "from pprint import pprint  #This will print the file in a nested way. \n",
    "\n",
    "with open('in/name.json') as data_file:   #The \"with\" incorporates an open and close of file.   \n",
    "    datajson = json.load(data_file)\n",
    "\n",
    "print(\"data is a python object of type: \", type(datajson),\"\\n\")\n",
    "pprint(datajson) #Pretty printing (pprint) makes it easier to see the nesting of the files. \n"
   ]
  },
  {
   "cell_type": "markdown",
   "metadata": {},
   "source": [
    "### Updating a Dictionary\n",
    "- Here we are going to again update the first two rows and then print the results. "
   ]
  },
  {
   "cell_type": "code",
   "execution_count": 2,
   "metadata": {
    "collapsed": true
   },
   "outputs": [
    {
     "ename": "NameError",
     "evalue": "name 'datajson' is not defined",
     "output_type": "error",
     "traceback": [
      "\u001b[0;31m---------------------------------------------------------------------------\u001b[0m",
      "\u001b[0;31mNameError\u001b[0m                                 Traceback (most recent call last)",
      "\u001b[0;32m<ipython-input-2-abf8044156c0>\u001b[0m in \u001b[0;36m<module>\u001b[0;34m()\u001b[0m\n\u001b[1;32m      4\u001b[0m \u001b[0;31m# Update the rest of the information with your\u001b[0m\u001b[0;34m\u001b[0m\u001b[0;34m\u001b[0m\u001b[0m\n\u001b[1;32m      5\u001b[0m \u001b[0;34m\u001b[0m\u001b[0m\n\u001b[0;32m----> 6\u001b[0;31m \u001b[0mdatajson\u001b[0m\u001b[0;34m[\u001b[0m\u001b[0;34m'student'\u001b[0m\u001b[0;34m]\u001b[0m\u001b[0;34m[\u001b[0m\u001b[0;36m0\u001b[0m\u001b[0;34m]\u001b[0m\u001b[0;34m[\u001b[0m\u001b[0;34m'first-name'\u001b[0m\u001b[0;34m]\u001b[0m  \u001b[0;34m=\u001b[0m \u001b[0;34m'Your first name'\u001b[0m\u001b[0;34m\u001b[0m\u001b[0m\n\u001b[0m\u001b[1;32m      7\u001b[0m \u001b[0mdatajson\u001b[0m\u001b[0;34m[\u001b[0m\u001b[0;34m'student'\u001b[0m\u001b[0;34m]\u001b[0m\u001b[0;34m[\u001b[0m\u001b[0;36m0\u001b[0m\u001b[0;34m]\u001b[0m\u001b[0;34m[\u001b[0m\u001b[0;34m'last-name'\u001b[0m\u001b[0;34m]\u001b[0m  \u001b[0;34m=\u001b[0m \u001b[0;34m'your last name'\u001b[0m\u001b[0;34m\u001b[0m\u001b[0m\n\u001b[1;32m      8\u001b[0m \u001b[0mpprint\u001b[0m\u001b[0;34m(\u001b[0m\u001b[0mdatajson\u001b[0m\u001b[0;34m)\u001b[0m\u001b[0;34m\u001b[0m\u001b[0m\n",
      "\u001b[0;31mNameError\u001b[0m: name 'datajson' is not defined"
     ]
    }
   ],
   "source": [
    "#Here is how you update the dictionary: \n",
    "#We are indicating that we want the first student, and from there we list which \"key\" for \n",
    "#the dictionary we want (i.e., 'first-name').\n",
    "\n",
    "datajson['student'][0]['first-name']  = 'Your first name'\n",
    "datajson['student'][0]['last-name']  = 'your last name'\n",
    "pprint(datajson)"
   ]
  },
  {
   "cell_type": "markdown",
   "metadata": {},
   "source": [
    "**Update the remainder of the columns below.** "
   ]
  },
  {
   "cell_type": "code",
   "execution_count": null,
   "metadata": {},
   "outputs": [],
   "source": [
    "#Enter your code to update the remaining dictionary values. \n",
    "\n",
    "\n",
    "#This writes the file\n",
    "with open('out/name.json', 'w') as data_file:   #The \"with\" incorporates an open and close of file.   \n",
    "    json.dump(datajson, data_file)\n",
    "pprint(datajson)"
   ]
  },
  {
   "cell_type": "markdown",
   "metadata": {},
   "source": [
    "## Parquet Files\n",
    "- CSV files are great for humans to read and understand.  \n",
    "- For \"big data\" though, it isn't a great long term storage option (inefficient/slow).\n",
    "- Parquet is a type columnar storage format.  It makes dealing with lots of columns fast. \n",
    "- [fastparquet](https://fastparquet.readthedocs.io) is a Python package for dealing with Parquet files. \n",
    "- Apache Spark also natively reads Parquet Files. \n",
    "- If you are running this locally you may need to install fastparquet.  This is a package. Look [here](https://anaconda.org/conda-forge/fastparquet) for instructions on installing the fastparquet package. "
   ]
  },
  {
   "cell_type": "code",
   "execution_count": null,
   "metadata": {
    "collapsed": true
   },
   "outputs": [],
   "source": [
    "from fastparquet import ParquetFile\n",
    "pf = ParquetFile('in/name.parq')\n",
    "dfparq = pf.to_pandas()\n",
    "dfparq"
   ]
  },
  {
   "cell_type": "code",
   "execution_count": null,
   "metadata": {
    "collapsed": true
   },
   "outputs": [],
   "source": [
    "#Update the dfparq dataframe (Hint: You updated a dataframe earlier).\n",
    "dfparq"
   ]
  },
  {
   "cell_type": "markdown",
   "metadata": {},
   "source": [
    "## Create a Parquet file.  \n",
    "- This is a binary file, so it can't be read by a text editor. "
   ]
  },
  {
   "cell_type": "code",
   "execution_count": null,
   "metadata": {
    "collapsed": true
   },
   "outputs": [],
   "source": [
    "# We can similarly easily write to a .parq file. \n",
    "from fastparquet import write\n",
    "write('out/name.parq', dfparq)\n",
    "dfparq"
   ]
  },
  {
   "cell_type": "markdown",
   "metadata": {},
   "source": [
    "## This is All\n",
    "- Unfortunately "
   ]
  },
  {
   "cell_type": "markdown",
   "metadata": {},
   "source": [
    "## Homework Rubric\n",
    "The following Rubric will be used to grade homwork. \n",
    "q1. Updated `out/name.csv` file with your information  (1 pt).<br>\n",
    "q2. Updated `out/name.txt` file with your information  (1 pt).<br>\n",
    "q3. Updated `out/name.csv` file with your information  (1 pt).<br>\n",
    "q4. Updated `out/name.json`  file with your information  (1 pt).<br>\n",
    "q5. Updated `out/name.parq` parquet file (1 pt)<br>\n",
    "q6. Review the [pandas documentation](https://pandas.pydata.org) and give a 3 sentence summary of what the Pandas Package is for. (3 pt) <br>\n",
    "q7.  Read through the [fastparquet documentation](https://fastparquet.readthedocs.io) and give a 2 sentence summary of what the Pandas Package is for. (2 pt)\n",
    "\n"
   ]
  },
  {
   "cell_type": "code",
   "execution_count": null,
   "metadata": {
    "collapsed": true
   },
   "outputs": [],
   "source": [
    "#Notice how we can use 3 quotes. \n",
    "q6 = \"\"\"q6.  \n",
    "\n",
    "\n",
    "\"\"\""
   ]
  },
  {
   "cell_type": "code",
   "execution_count": null,
   "metadata": {
    "collapsed": true
   },
   "outputs": [],
   "source": [
    "q7 = \"\"\"q7.\n",
    "Enter answer here. \n",
    "\n",
    "\n",
    "\"\"\""
   ]
  },
  {
   "cell_type": "code",
   "execution_count": null,
   "metadata": {
    "collapsed": true
   },
   "outputs": [],
   "source": [
    "#q8 I work throug this entire homework step by step and did not copy the file from somone else. Change to True if you did. \n",
    "\n",
    "q8= \"False\""
   ]
  },
  {
   "cell_type": "markdown",
   "metadata": {},
   "source": [
    "### Generate Answers.txt\n",
    "This will output the questions to a text file. "
   ]
  },
  {
   "cell_type": "code",
   "execution_count": null,
   "metadata": {
    "collapsed": true
   },
   "outputs": [],
   "source": [
    "answers= [q6,q7,q8]\n",
    "with open('out/answers.txt', 'w') as outfile:   #The \"with\" incorporates an open and close of file. \n",
    "    outfile.write(\"\\n\".join(answers))\n",
    "\n"
   ]
  },
  {
   "cell_type": "markdown",
   "metadata": {},
   "source": [
    "### SUBMIT YOUR ANSWERS BY PUSHING TO THE HOMEWORK REPOSITORY. (DON'T FORGET PDF OF LAB01"
   ]
  },
  {
   "cell_type": "markdown",
   "metadata": {},
   "source": [
    "\n",
    "This work is licensed under the [Creative Commons Attribution 4.0 International](https://creativecommons.org/licenses/by/4.0/) license agreement."
   ]
  },
  {
   "cell_type": "code",
   "execution_count": null,
   "metadata": {},
   "outputs": [],
   "source": []
  }
 ],
 "metadata": {
  "anaconda-cloud": {
   "attach-environment": true,
   "environment": "py3k",
   "summary": "A test Jupyter notebook to verify local Python Environment.",
   "url": "https://anaconda.org/analyticsdojo/local-intro"
  },
  "celltoolbar": "Slideshow",
  "kernelspec": {
   "display_name": "Python 3",
   "language": "python",
   "name": "python3"
  },
  "language_info": {
   "codemirror_mode": {
    "name": "ipython",
    "version": 3
   },
   "file_extension": ".py",
   "mimetype": "text/x-python",
   "name": "python",
   "nbconvert_exporter": "python",
   "pygments_lexer": "ipython3",
   "version": "3.6.3"
  }
 },
 "nbformat": 4,
 "nbformat_minor": 2
}
